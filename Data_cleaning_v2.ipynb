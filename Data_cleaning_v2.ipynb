{
 "cells": [
  {
   "cell_type": "code",
   "execution_count": 34,
   "id": "c6df2816",
   "metadata": {},
   "outputs": [],
   "source": [
    "import dask.dataframe as dd\n",
    "import pandas as pd\n",
    "from io import StringIO"
   ]
  },
  {
   "cell_type": "code",
   "execution_count": 35,
   "id": "8c8dc91f",
   "metadata": {},
   "outputs": [],
   "source": [
    "data = 'Airline Code;DelayTimes;FlightCodes;To_From\\nAir Canada (!);[21, 40];20015.0;WAterLoo_NEWYork\\n<Air France> (12);[];;Montreal_TORONTO\\n(Porter Airways. );[60, 22, 87];20035.0;CALgary_Ottawa\\n12. Air France;[78, 66];;Ottawa_VANcouvER\\n\"\"\".\\\\.Lufthansa.\\\\.\"\"\";[12, 33];20055.0;london_MONTreal\\n'"
   ]
  },
  {
   "cell_type": "code",
   "execution_count": 36,
   "id": "8e124f57",
   "metadata": {},
   "outputs": [],
   "source": [
    "# Read the string into a pandas DataFrame (Dask can't read from StringIO directly)\n",
    "pdf = pd.read_csv(StringIO(data), sep=';')\n",
    "\n",
    "# Convert to Dask DataFrame\n",
    "dask_df = dd.from_pandas(pdf, npartitions=1)"
   ]
  },
  {
   "cell_type": "code",
   "execution_count": 37,
   "id": "d720ad9d",
   "metadata": {},
   "outputs": [
    {
     "name": "stdout",
     "output_type": "stream",
     "text": [
      "     Airline Code    DelayTimes  FlightCodes        To       From\n",
      "0      Air Canada      [21, 40]        20015  WATERLOO    NEWYORK\n",
      "1      Air France            []        20025  MONTREAL    TORONTO\n",
      "2  Porter Airways  [60, 22, 87]        20035   CALGARY     OTTAWA\n",
      "3      Air France      [78, 66]        20045    OTTAWA  VANCOUVER\n",
      "4       Lufthansa      [12, 33]        20055    LONDON   MONTREAL\n"
     ]
    }
   ],
   "source": [
    "# --- 1. Interpolate FlightCodes using map_partitions ---\n",
    "dask_df['FlightCodes'] = dask_df['FlightCodes'].astype(float)\n",
    "dask_df['FlightCodes'] = dask_df['FlightCodes'].map_partitions(lambda s: s.interpolate())\n",
    "dask_df['FlightCodes'] = dask_df['FlightCodes'].astype(int)\n",
    "print(df.compute())"
   ]
  },
  {
   "cell_type": "code",
   "execution_count": 38,
   "id": "f79f08ac",
   "metadata": {},
   "outputs": [
    {
     "name": "stdout",
     "output_type": "stream",
     "text": [
      "         Airline Code    DelayTimes  FlightCodes        To       From\n",
      "0      Air Canada (!)      [21, 40]        20015  WATERLOO    NEWYORK\n",
      "1   <Air France> (12)            []        20025  MONTREAL    TORONTO\n",
      "2  (Porter Airways. )  [60, 22, 87]        20035   CALGARY     OTTAWA\n",
      "3      12. Air France      [78, 66]        20045    OTTAWA  VANCOUVER\n",
      "4   \".\\.Lufthansa.\\.\"      [12, 33]        20055    LONDON   MONTREAL\n"
     ]
    }
   ],
   "source": [
    "# --- 2. Split To_From into To and From ---\n",
    "dask_df[['To', 'From']] = dask_df['To_From'].str.split('_', n=1, expand=True)\n",
    "dask_df['To'] = dask_df['To'].str.upper()\n",
    "dask_df['From'] = dask_df['From'].str.upper()\n",
    "dask_df = dask_df.drop(columns='To_From')\n",
    "print(dask_df.compute())"
   ]
  },
  {
   "cell_type": "code",
   "execution_count": 39,
   "id": "72adecde",
   "metadata": {},
   "outputs": [
    {
     "name": "stdout",
     "output_type": "stream",
     "text": [
      "     Airline Code    DelayTimes  FlightCodes        To       From\n",
      "0      Air Canada      [21, 40]        20015  WATERLOO    NEWYORK\n",
      "1      Air France            []        20025  MONTREAL    TORONTO\n",
      "2  Porter Airways  [60, 22, 87]        20035   CALGARY     OTTAWA\n",
      "3      Air France      [78, 66]        20045    OTTAWA  VANCOUVER\n",
      "4       Lufthansa      [12, 33]        20055    LONDON   MONTREAL\n"
     ]
    }
   ],
   "source": [
    "# --- 3. Clean Airline Code ---\n",
    "dask_df['Airline Code'] = dask_df['Airline Code'].str.replace(r'[^a-zA-Z\\s]+', ' ', regex=True)\n",
    "dask_df['Airline Code'] = dask_df['Airline Code'].str.strip()\n",
    "dask_df['Airline Code'] = dask_df['Airline Code'].str.replace(r'\\s+', ' ', regex=True)\n",
    "print(df.compute())"
   ]
  }
 ],
 "metadata": {
  "kernelspec": {
   "display_name": "Python 3",
   "language": "python",
   "name": "python3"
  },
  "language_info": {
   "codemirror_mode": {
    "name": "ipython",
    "version": 3
   },
   "file_extension": ".py",
   "mimetype": "text/x-python",
   "name": "python",
   "nbconvert_exporter": "python",
   "pygments_lexer": "ipython3",
   "version": "3.12.6"
  }
 },
 "nbformat": 4,
 "nbformat_minor": 5
}
